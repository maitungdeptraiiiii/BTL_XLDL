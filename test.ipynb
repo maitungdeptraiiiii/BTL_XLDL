{
 "cells": [
  {
   "cell_type": "markdown",
   "metadata": {},
   "source": [
    "immport các thư viện cần thiết"
   ]
  },
  {
   "cell_type": "code",
   "execution_count": 1,
   "metadata": {},
   "outputs": [],
   "source": [
    "import pandas as pd\n",
    "import matplotlib as mpl\n",
    "import yfinance as yf\n",
    "from yahooquery import Ticker\n",
    "import requests\n",
    "from func import *\n",
    "from company_aliases import alias_mapping\n"
   ]
  },
  {
   "cell_type": "markdown",
   "metadata": {},
   "source": [
    "Lấy 10 công ty có thu nhập lớn nhất Hoa Kỳ"
   ]
  },
  {
   "cell_type": "code",
   "execution_count": 2,
   "metadata": {},
   "outputs": [
    {
     "name": "stdout",
     "output_type": "stream",
     "text": [
      "['Walmart', 'Amazon', 'Apple', 'UnitedHealth Group', 'Berkshire Hathaway', 'CVS Health', 'ExxonMobil', 'McKesson', 'Alphabet', 'Cencora']\n"
     ]
    }
   ],
   "source": [
    "import pandas as pd\n",
    "\n",
    "# Dữ liệu từ trang bạn cung cấp\n",
    "url = \"https://en.wikipedia.org/wiki/List_of_largest_companies_by_revenue#See_also\"\n",
    "tables = pd.read_html(url)\n",
    "# Chuyển dữ liệu từ bảng đầu tiên thành DataFrame\n",
    "df = pd.DataFrame(tables[0])\n",
    "# Lọc các công ty có trụ sở tại Mỹ\n",
    "us_companies = df[df[('Headquarters[note 1]', 'Headquarters[note 1]')] == 'United States']\n",
    "# Sắp xếp theo lợi nhuận giảm dần và lấy Top 10 công ty có lợi nhuận cao nhất\n",
    "top_10_profit_us = us_companies.sort_values(by=('Revenue', 'USD millions'), ascending=False).head(10)\n",
    "company_names = top_10_profit_us[('Ram', 'Ram')].tolist()\n",
    "print(company_names)\n"
   ]
  },
  {
   "cell_type": "markdown",
   "metadata": {},
   "source": [
    "Lấy mã cổ phiếu của các công ty"
   ]
  },
  {
   "cell_type": "code",
   "execution_count": null,
   "metadata": {},
   "outputs": [
    {
     "name": "stdout",
     "output_type": "stream",
     "text": [
      "['WMT', 'AMZN', 'AAPL', 'UNH', 'BRK-B', 'CVS', 'XOM', 'MCK', 'GOOG', 'COR']\n"
     ]
    }
   ],
   "source": [
    "stock_name=[]\n",
    "for name in company_names:\n",
    "    stock_name.append(get_stock_name(name))\n"
   ]
  },
  {
   "cell_type": "code",
   "execution_count": 5,
   "metadata": {},
   "outputs": [
    {
     "name": "stdout",
     "output_type": "stream",
     "text": [
      "{'Company Name': 'Walmart Inc.', 'Sector': 'Consumer Defensive', 'Industry': 'Discount Stores', 'Country': 'United States', 'Market Cap': 738554413056}\n"
     ]
    }
   ],
   "source": [
    "import yfinance as yf\n",
    "\n",
    "def get_company_info(ticker_symbol):\n",
    "    # Lấy thông tin cổ phiếu\n",
    "    stock = yf.Ticker(ticker_symbol)\n",
    "    \n",
    "    # Lấy thông tin về công ty\n",
    "    company_info = stock.info\n",
    "    \n",
    "    # Lấy tên công ty và các thông tin khác như lĩnh vực, ngành nghề, etc.\n",
    "    company_name = company_info.get('longName', 'N/A')\n",
    "    sector = company_info.get('sector', 'N/A')\n",
    "    industry = company_info.get('industry', 'N/A')\n",
    "    country = company_info.get('country', 'N/A')\n",
    "    market_cap = company_info.get('marketCap', 'N/A')\n",
    "    \n",
    "    return {\n",
    "        'Company Name': company_name,\n",
    "        'Sector': sector,\n",
    "        'Industry': industry,\n",
    "        'Country': country,\n",
    "        'Market Cap': market_cap\n",
    "    }\n",
    "\n",
    "# Ví dụ sử dụng\n",
    "ticker_symbol = 'WMT'  # Mã cổ phiếu của Apple\n",
    "company_info = get_company_info(ticker_symbol)\n",
    "print(company_info)\n"
   ]
  }
 ],
 "metadata": {
  "kernelspec": {
   "display_name": "base",
   "language": "python",
   "name": "python3"
  },
  "language_info": {
   "codemirror_mode": {
    "name": "ipython",
    "version": 3
   },
   "file_extension": ".py",
   "mimetype": "text/x-python",
   "name": "python",
   "nbconvert_exporter": "python",
   "pygments_lexer": "ipython3",
   "version": "3.12.4"
  }
 },
 "nbformat": 4,
 "nbformat_minor": 2
}
