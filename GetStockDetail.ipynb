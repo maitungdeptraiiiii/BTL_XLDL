{
 "cells": [
  {
   "cell_type": "markdown",
   "metadata": {},
   "source": [
    "immport các thư viện cần thiết"
   ]
  },
  {
   "cell_type": "code",
   "execution_count": null,
   "metadata": {},
   "outputs": [],
   "source": [
    "import pandas as pd\n",
    "import matplotlib as mpl\n",
    "import yfinance as yf\n",
    "from yahooquery import Ticker\n",
    "import requests\n",
    "from GetStockName import *\n",
    "import os"
   ]
  },
  {
   "cell_type": "markdown",
   "metadata": {},
   "source": [
    "Lấy 10 công ty có thu nhập lớn nhất Hoa Kỳ"
   ]
  },
  {
   "cell_type": "code",
   "execution_count": null,
   "metadata": {},
   "outputs": [
    {
     "name": "stdout",
     "output_type": "stream",
     "text": [
      "COR\n"
     ]
    }
   ],
   "source": [
    "import pandas as pd\n",
    "\n",
    "# Dữ liệu từ trang bạn cung cấp\n",
    "url = \"https://en.wikipedia.org/wiki/List_of_largest_companies_by_revenue#See_also\"\n",
    "tables = pd.read_html(url)\n",
    "# Chuyển dữ liệu từ bảng đầu tiên thành DataFrame\n",
    "df = pd.DataFrame(tables[0])\n",
    "# Lọc các công ty có trụ sở tại Mỹ\n",
    "us_companies = df[df[('Headquarters[note 1]', 'Headquarters[note 1]')] == 'United States']\n",
    "# Sắp xếp theo lợi nhuận giảm dần và lấy Top 10 công ty có lợi nhuận cao nhất\n",
    "top_10_profit_us = us_companies.sort_values(by=('Revenue', 'USD millions'), ascending=False).head(10)\n",
    "company_names = top_10_profit_us[('Ram', 'Ram')].tolist()\n",
    "\n"
   ]
  },
  {
   "cell_type": "markdown",
   "metadata": {},
   "source": [
    "Lấy mã cổ phiếu,dữ liệu cổ phiếu của các công ty và xuất ra file Excel"
   ]
  },
  {
   "cell_type": "code",
   "execution_count": 19,
   "metadata": {},
   "outputs": [
    {
     "name": "stderr",
     "output_type": "stream",
     "text": [
      "[*********************100%***********************]  1 of 1 completed\n",
      "[*********************100%***********************]  1 of 1 completed\n",
      "[*********************100%***********************]  1 of 1 completed\n",
      "[*********************100%***********************]  1 of 1 completed\n",
      "[*********************100%***********************]  1 of 1 completed\n",
      "[*********************100%***********************]  1 of 1 completed\n",
      "[*********************100%***********************]  1 of 1 completed\n",
      "[*********************100%***********************]  1 of 1 completed\n",
      "[*********************100%***********************]  1 of 1 completed\n",
      "[*********************100%***********************]  1 of 1 completed\n"
     ]
    }
   ],
   "source": [
    "stock_name=[]\n",
    "for name in company_names:\n",
    "    ticker=get_stock_name(name)\n",
    "    stock_name.append(ticker)\n",
    "    file_name=name.replace(\" \",\"_\")\n",
    "    data = yf.download(ticker, start=\"2020-01-01\", end=\"2024-11-29\")\n",
    "    # Xuất dữ liệu ra file Excel    \n",
    "    folder_path = r\"C:\\Users\\admin\\Desktop\\New folder (10)\\Stock_data\"\n",
    "    file_path = os.path.join(folder_path, file_name + \".xlsx\")\n",
    "    data.to_excel(file_path, engine='openpyxl')\n",
    "    # Xuất dữ liệu ra file Excel\n"
   ]
  }
 ],
 "metadata": {
  "kernelspec": {
   "display_name": "base",
   "language": "python",
   "name": "python3"
  },
  "language_info": {
   "codemirror_mode": {
    "name": "ipython",
    "version": 3
   },
   "file_extension": ".py",
   "mimetype": "text/x-python",
   "name": "python",
   "nbconvert_exporter": "python",
   "pygments_lexer": "ipython3",
   "version": "3.12.4"
  }
 },
 "nbformat": 4,
 "nbformat_minor": 2
}
